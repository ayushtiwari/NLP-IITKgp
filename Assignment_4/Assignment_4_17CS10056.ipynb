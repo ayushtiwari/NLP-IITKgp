{
  "nbformat": 4,
  "nbformat_minor": 0,
  "metadata": {
    "colab": {
      "name": "Untitled34.ipynb",
      "provenance": []
    },
    "kernelspec": {
      "name": "python3",
      "display_name": "Python 3"
    },
    "accelerator": "GPU"
  },
  "cells": [
    {
      "cell_type": "code",
      "metadata": {
        "id": "2IxgHcwufyvd",
        "outputId": "895d82ee-304d-421e-ec2f-f6d60b89664a",
        "colab": {
          "base_uri": "https://localhost:8080/",
          "height": 34
        }
      },
      "source": [
        "%cd drive/My\\ Drive/NLP"
      ],
      "execution_count": 1,
      "outputs": [
        {
          "output_type": "stream",
          "text": [
            "/content/drive/My Drive/NLP\n"
          ],
          "name": "stdout"
        }
      ]
    },
    {
      "cell_type": "code",
      "metadata": {
        "id": "oijnZL-BgBx0",
        "outputId": "03761763-2090-4eef-8e46-d6c6109fa750",
        "colab": {
          "base_uri": "https://localhost:8080/",
          "height": 34
        }
      },
      "source": [
        "%ls"
      ],
      "execution_count": 2,
      "outputs": [
        {
          "output_type": "stream",
          "text": [
            "corpus.txt  hi-ud-test.conllu  hi-ud-train.conllu  imdb.csv\n"
          ],
          "name": "stdout"
        }
      ]
    },
    {
      "cell_type": "code",
      "metadata": {
        "id": "fwwrUhmb6Y4P"
      },
      "source": [
        "from itertools import chain\n",
        "\n",
        "import nltk\n",
        "import sklearn\n",
        "import scipy.stats\n",
        "from sklearn.metrics import make_scorer\n",
        "from sklearn.model_selection import cross_val_score\n",
        "from sklearn.model_selection import RandomizedSearchCV\n",
        "\n",
        "import sklearn_crfsuite\n",
        "from sklearn_crfsuite import scorers\n",
        "from sklearn_crfsuite import metrics"
      ],
      "execution_count": 3,
      "outputs": []
    },
    {
      "cell_type": "code",
      "metadata": {
        "id": "x5C3u468vl1R"
      },
      "source": [
        "def readfile(filepath, sep=','):\n",
        "    with open(filepath, 'r') as f:\n",
        "        lines = [line.rstrip() for line in f.readlines()[1:]]\n",
        "    sentences = []\n",
        "    sentence = []\n",
        "    for line in lines:\n",
        "\n",
        "        if line:\n",
        "            word, tag = line.split(sep)[1], line.split(sep)[2]\n",
        "        else:\n",
        "            word, tag = None, None\n",
        "    \n",
        "        if not word:\n",
        "            sentences.append(sentence)\n",
        "            sentence = []\n",
        "        else:\n",
        "            sentence.append((word, tag))\n",
        "  \n",
        "    return sentences"
      ],
      "execution_count": 4,
      "outputs": []
    },
    {
      "cell_type": "code",
      "metadata": {
        "id": "INShhryxjpnc"
      },
      "source": [
        "train_sents = readfile('hi-ud-train.conllu', sep=',')\n",
        "test_sents = readfile('hi-ud-test.conllu', sep='\\t')"
      ],
      "execution_count": 5,
      "outputs": []
    },
    {
      "cell_type": "code",
      "metadata": {
        "id": "ThtOak6rv84Z",
        "outputId": "35974aa9-76fb-4208-8625-cbff395db591",
        "colab": {
          "base_uri": "https://localhost:8080/",
          "height": 51
        }
      },
      "source": [
        "print(len(train_sents))\n",
        "print(len(test_sents))"
      ],
      "execution_count": 6,
      "outputs": [
        {
          "output_type": "stream",
          "text": [
            "613\n",
            "99\n"
          ],
          "name": "stdout"
        }
      ]
    },
    {
      "cell_type": "code",
      "metadata": {
        "id": "UXFBi0I8wOh8"
      },
      "source": [
        "def word2features(sent, i):\n",
        "    word = sent[i][0]\n",
        "    \n",
        "    features = {\n",
        "        'bias': 1.0,\n",
        "        'word.lower()': word.lower(),\n",
        "        'word[-3:]': word[-3:],\n",
        "        'word[-2:]': word[-2:],\n",
        "        'word.isupper()': word.isupper(),\n",
        "        'word.istitle()': word.istitle(),\n",
        "        'word.isdigit()': word.isdigit(),     \n",
        "    }\n",
        "    if i > 0:\n",
        "        word1 = sent[i-1][0]\n",
        "        features.update({\n",
        "            '-1:word.lower()': word1.lower(),\n",
        "            '-1:word.istitle()': word1.istitle(),\n",
        "            '-1:word.isupper()': word1.isupper(),\n",
        "        })\n",
        "    else:\n",
        "        features['BOS'] = True\n",
        "        \n",
        "    if i < len(sent)-1:\n",
        "        word1 = sent[i+1][0]\n",
        "        features.update({\n",
        "            '+1:word.lower()': word1.lower(),\n",
        "            '+1:word.istitle()': word1.istitle(),\n",
        "            '+1:word.isupper()': word1.isupper(),\n",
        "        })\n",
        "    else:\n",
        "        features['EOS'] = True\n",
        "                \n",
        "    return features"
      ],
      "execution_count": 7,
      "outputs": []
    },
    {
      "cell_type": "markdown",
      "metadata": {
        "id": "Omqlipun-0Lb"
      },
      "source": [
        "Features\n",
        "1. Derived from current word -> word itself, word suffixes, is it uppercase, is it titlecase, is it a number\n",
        "2. Derived from next word -> word itself, is it uppercase, is it title\n",
        "3. Derived from prev word -> word itself, is it uppercase,\n",
        "is it tile\n",
        "4. If current word is the first word then 'EOS' = true\n",
        "5. If current word is the end word then 'EOS' = false"
      ]
    },
    {
      "cell_type": "code",
      "metadata": {
        "id": "tSbh3gRww6bS"
      },
      "source": [
        "def sent2features(sent):\n",
        "    return [word2features(sent, i) for i in range(len(sent))]\n",
        "\n",
        "def sent2tokens(sent):\n",
        "    return [token for token, postag in sent]\n",
        "\n",
        "def sent2postags(sent):\n",
        "    return [postag for token, postag in sent]"
      ],
      "execution_count": 8,
      "outputs": []
    },
    {
      "cell_type": "code",
      "metadata": {
        "id": "nP0908TnxNez",
        "outputId": "7a3337ed-14f5-45dc-fdd4-3596ba68d5ec",
        "colab": {
          "base_uri": "https://localhost:8080/",
          "height": 204
        }
      },
      "source": [
        "sent2features(train_sents[0])[0]"
      ],
      "execution_count": 9,
      "outputs": [
        {
          "output_type": "execute_result",
          "data": {
            "text/plain": [
              "{'+1:word.istitle()': False,\n",
              " '+1:word.isupper()': False,\n",
              " '+1:word.lower()': 'esiya',\n",
              " 'BOS': True,\n",
              " 'bias': 1.0,\n",
              " 'word.isdigit()': False,\n",
              " 'word.istitle()': False,\n",
              " 'word.isupper()': False,\n",
              " 'word.lower()': 'yaha',\n",
              " 'word[-2:]': 'ha',\n",
              " 'word[-3:]': 'aha'}"
            ]
          },
          "metadata": {
            "tags": []
          },
          "execution_count": 9
        }
      ]
    },
    {
      "cell_type": "code",
      "metadata": {
        "id": "nd4WNGHlxkVg",
        "outputId": "f1bd1a63-28b5-4ec3-9c82-27b3192381c9",
        "colab": {
          "base_uri": "https://localhost:8080/",
          "height": 51
        }
      },
      "source": [
        "%%time\n",
        "X_train = [sent2features(s) for s in train_sents]\n",
        "y_train = [sent2postags(s) for s in train_sents]\n",
        "\n",
        "X_test = [sent2features(s) for s in test_sents]\n",
        "y_test = [sent2postags(s) for s in test_sents]"
      ],
      "execution_count": 10,
      "outputs": [
        {
          "output_type": "stream",
          "text": [
            "CPU times: user 15.5 ms, sys: 5.91 ms, total: 21.5 ms\n",
            "Wall time: 21.5 ms\n"
          ],
          "name": "stdout"
        }
      ]
    },
    {
      "cell_type": "code",
      "metadata": {
        "id": "LMOioe36y6b0",
        "outputId": "0bf55cc9-a1fd-4652-f649-edc86444c00f",
        "colab": {
          "base_uri": "https://localhost:8080/",
          "height": 51
        }
      },
      "source": [
        "%%time\n",
        "crf = sklearn_crfsuite.CRF(\n",
        "    algorithm='lbfgs', \n",
        "    c1=0.1, \n",
        "    c2=0.1, \n",
        "    max_iterations=100, \n",
        "    all_possible_transitions=True\n",
        ")\n",
        "crf.fit(X_train, y_train)"
      ],
      "execution_count": 11,
      "outputs": [
        {
          "output_type": "stream",
          "text": [
            "CPU times: user 1.33 s, sys: 5.68 ms, total: 1.34 s\n",
            "Wall time: 1.34 s\n"
          ],
          "name": "stdout"
        }
      ]
    },
    {
      "cell_type": "code",
      "metadata": {
        "id": "QUAjGsZyzLq2",
        "outputId": "72a88087-68a5-41e8-ebeb-b73eddb9f584",
        "colab": {
          "base_uri": "https://localhost:8080/",
          "height": 272
        }
      },
      "source": [
        "labels = list(crf.classes_)\n",
        "labels"
      ],
      "execution_count": 12,
      "outputs": [
        {
          "output_type": "execute_result",
          "data": {
            "text/plain": [
              "['DET',\n",
              " 'PROPN',\n",
              " 'ADP',\n",
              " 'ADV',\n",
              " 'ADJ',\n",
              " 'NOUN',\n",
              " 'NUM',\n",
              " 'AUX',\n",
              " 'PUNCT',\n",
              " 'PRON',\n",
              " 'VERB',\n",
              " 'CCONJ',\n",
              " 'PART',\n",
              " 'SCONJ',\n",
              " 'X']"
            ]
          },
          "metadata": {
            "tags": []
          },
          "execution_count": 12
        }
      ]
    },
    {
      "cell_type": "code",
      "metadata": {
        "id": "AstK4nTQ807c",
        "outputId": "9f7ce445-002e-4538-ff9a-672f4fad1211",
        "colab": {
          "base_uri": "https://localhost:8080/",
          "height": 102
        }
      },
      "source": [
        "print(\"Train Scores\")\n",
        "\n",
        "y_pred = crf.predict(X_train)\n",
        "print(\"F1-Score : {}\".format(metrics.flat_f1_score(y_train, y_pred, \n",
        "                      average='weighted', labels=labels)))\n",
        "print(\"Precision : {}\".format(metrics.flat_precision_score(y_train, y_pred, \n",
        "                      average='weighted', labels=labels)))\n",
        "print(\"Recall : {}\".format(metrics.flat_recall_score(y_train, y_pred, \n",
        "                      average='weighted', labels=labels)))\n",
        "print(\"Accuracy : {}\".format(metrics.flat_accuracy_score(y_train, y_pred)))"
      ],
      "execution_count": 13,
      "outputs": [
        {
          "output_type": "stream",
          "text": [
            "Train Scores\n",
            "F1-Score : 0.9961206850932236\n",
            "Precision : 0.9961531627089814\n",
            "Recall : 0.996125066809193\n",
            "Accuracy : 0.996125066809193\n"
          ],
          "name": "stdout"
        }
      ]
    },
    {
      "cell_type": "code",
      "metadata": {
        "id": "VEB88IUe9JjM",
        "outputId": "edb59fec-d316-47a4-ae58-87fca309dfd4",
        "colab": {
          "base_uri": "https://localhost:8080/",
          "height": 408
        }
      },
      "source": [
        "print(\"Train Scores\")\n",
        "\n",
        "sorted_labels = sorted(\n",
        "    labels, \n",
        "    key=lambda name: (name[1:], name[0])\n",
        ")\n",
        "print(metrics.flat_classification_report(\n",
        "    y_train, y_pred, labels=sorted_labels, digits=3\n",
        "))"
      ],
      "execution_count": 14,
      "outputs": [
        {
          "output_type": "stream",
          "text": [
            "Train Scores\n",
            "              precision    recall  f1-score   support\n",
            "\n",
            "           X      1.000     1.000     1.000         2\n",
            "        PART      1.000     0.994     0.997       163\n",
            "       CCONJ      0.993     1.000     0.997       150\n",
            "       SCONJ      0.984     1.000     0.992        61\n",
            "         ADJ      0.998     0.998     0.998       569\n",
            "         ADP      0.998     0.999     0.999      1384\n",
            "         ADV      1.000     0.973     0.986       110\n",
            "        VERB      0.998     0.981     0.990       639\n",
            "         DET      0.996     0.996     0.996       230\n",
            "        NOUN      0.994     0.999     0.997      1596\n",
            "        PRON      0.998     0.995     0.997       430\n",
            "       PROPN      1.000     0.992     0.996       707\n",
            "         NUM      1.000     1.000     1.000       152\n",
            "       PUNCT      1.000     1.000     1.000       563\n",
            "         AUX      0.985     1.000     0.993       728\n",
            "\n",
            "    accuracy                          0.996      7484\n",
            "   macro avg      0.996     0.995     0.996      7484\n",
            "weighted avg      0.996     0.996     0.996      7484\n",
            "\n"
          ],
          "name": "stdout"
        }
      ]
    },
    {
      "cell_type": "code",
      "metadata": {
        "id": "fcQVXpOAzQPq",
        "outputId": "365c11bf-ba00-4a40-d2db-eb4c47721c59",
        "colab": {
          "base_uri": "https://localhost:8080/",
          "height": 224
        }
      },
      "source": [
        "print(\"Test Scores\")\n",
        "\n",
        "y_pred = crf.predict(X_test)\n",
        "print(\"F1-Score : {}\".format(metrics.flat_f1_score(y_test, y_pred, \n",
        "                      average='weighted', labels=labels)))\n",
        "print(\"Precision : {}\".format(metrics.flat_precision_score(y_test, y_pred, \n",
        "                      average='weighted', labels=labels)))\n",
        "print(\"Recall : {}\".format(metrics.flat_recall_score(y_test, y_pred, \n",
        "                      average='weighted', labels=labels)))\n",
        "print(\"Accuracy : {}\".format(metrics.flat_accuracy_score(y_test, y_pred)))"
      ],
      "execution_count": 15,
      "outputs": [
        {
          "output_type": "stream",
          "text": [
            "Test Scores\n",
            "F1-Score : 0.8408460437174989\n",
            "Precision : 0.844214976334156\n",
            "Recall : 0.8421052631578947\n",
            "Accuracy : 0.8421052631578947\n"
          ],
          "name": "stdout"
        },
        {
          "output_type": "stream",
          "text": [
            "/usr/local/lib/python3.6/dist-packages/sklearn/metrics/_classification.py:1515: UndefinedMetricWarning: F-score is ill-defined and being set to 0.0 in labels with no true nor predicted samples. Use `zero_division` parameter to control this behavior.\n",
            "  average, \"true nor predicted\", 'F-score is', len(true_sum)\n",
            "/usr/local/lib/python3.6/dist-packages/sklearn/metrics/_classification.py:1272: UndefinedMetricWarning: Precision is ill-defined and being set to 0.0 in labels with no predicted samples. Use `zero_division` parameter to control this behavior.\n",
            "  _warn_prf(average, modifier, msg_start, len(result))\n",
            "/usr/local/lib/python3.6/dist-packages/sklearn/metrics/_classification.py:1272: UndefinedMetricWarning: Recall is ill-defined and being set to 0.0 in labels with no true samples. Use `zero_division` parameter to control this behavior.\n",
            "  _warn_prf(average, modifier, msg_start, len(result))\n"
          ],
          "name": "stderr"
        }
      ]
    },
    {
      "cell_type": "code",
      "metadata": {
        "id": "jcmmsXuyzaPX",
        "outputId": "e179cb42-19ab-472f-fa0f-afe1312afbf1",
        "colab": {
          "base_uri": "https://localhost:8080/",
          "height": 496
        }
      },
      "source": [
        "print(\"Test Scores\")\n",
        "\n",
        "sorted_labels = sorted(\n",
        "    labels, \n",
        "    key=lambda name: (name[1:], name[0])\n",
        ")\n",
        "print(metrics.flat_classification_report(\n",
        "    y_test, y_pred, labels=sorted_labels, digits=3\n",
        "))"
      ],
      "execution_count": 16,
      "outputs": [
        {
          "output_type": "stream",
          "text": [
            "Test Scores\n",
            "              precision    recall  f1-score   support\n",
            "\n",
            "           X      0.000     0.000     0.000         0\n",
            "        PART      0.938     0.909     0.923        33\n",
            "       CCONJ      1.000     1.000     1.000        25\n",
            "       SCONJ      0.750     1.000     0.857         3\n",
            "         ADJ      0.643     0.787     0.708        94\n",
            "         ADP      0.955     0.970     0.962       303\n",
            "         ADV      0.600     0.429     0.500        21\n",
            "        VERB      0.837     0.778     0.806        99\n",
            "         DET      0.842     0.889     0.865        36\n",
            "        NOUN      0.791     0.855     0.822       324\n",
            "        PRON      0.797     0.846     0.821        65\n",
            "       PROPN      0.639     0.542     0.586       144\n",
            "         NUM      0.957     0.880     0.917        25\n",
            "       PUNCT      1.000     0.828     0.906       134\n",
            "         AUX      0.921     0.935     0.928       138\n",
            "\n",
            "   micro avg      0.842     0.842     0.842      1444\n",
            "   macro avg      0.778     0.777     0.773      1444\n",
            "weighted avg      0.844     0.842     0.841      1444\n",
            "\n"
          ],
          "name": "stdout"
        },
        {
          "output_type": "stream",
          "text": [
            "/usr/local/lib/python3.6/dist-packages/sklearn/metrics/_classification.py:1272: UndefinedMetricWarning: Precision and F-score are ill-defined and being set to 0.0 in labels with no predicted samples. Use `zero_division` parameter to control this behavior.\n",
            "  _warn_prf(average, modifier, msg_start, len(result))\n",
            "/usr/local/lib/python3.6/dist-packages/sklearn/metrics/_classification.py:1272: UndefinedMetricWarning: Recall and F-score are ill-defined and being set to 0.0 in labels with no true samples. Use `zero_division` parameter to control this behavior.\n",
            "  _warn_prf(average, modifier, msg_start, len(result))\n"
          ],
          "name": "stderr"
        }
      ]
    },
    {
      "cell_type": "code",
      "metadata": {
        "id": "9umXEHM71K1j",
        "outputId": "7b18be3f-6f9c-4890-f1b7-a435a0765875",
        "colab": {
          "base_uri": "https://localhost:8080/",
          "height": 425
        }
      },
      "source": [
        "from collections import Counter\n",
        "\n",
        "print(\"Train Sentences\")\n",
        "def print_transitions(trans_features):\n",
        "    for (label_from, label_to), weight in trans_features:\n",
        "        print(\"%-6s -> %-7s %0.6f\" % (label_from, label_to, weight))\n",
        "\n",
        "print(\"Top likely transitions:\")\n",
        "print_transitions(Counter(crf.transition_features_).most_common(10))\n",
        "\n",
        "print(\"\\nTop unlikely transitions:\")\n",
        "print_transitions(Counter(crf.transition_features_).most_common()[-10:])"
      ],
      "execution_count": 22,
      "outputs": [
        {
          "output_type": "stream",
          "text": [
            "Train Sentences\n",
            "Top likely transitions:\n",
            "VERB   -> AUX     4.005966\n",
            "PROPN  -> PROPN   2.544374\n",
            "AUX    -> AUX     2.297002\n",
            "ADJ    -> NOUN    2.219601\n",
            "PROPN  -> ADP     2.204116\n",
            "PRON   -> ADP     1.958806\n",
            "NUM    -> NOUN    1.869655\n",
            "AUX    -> SCONJ   1.824453\n",
            "NOUN   -> ADP     1.763550\n",
            "VERB   -> SCONJ   1.743490\n",
            "\n",
            "Top unlikely transitions:\n",
            "AUX    -> ADP     -1.179227\n",
            "ADV    -> AUX     -1.183643\n",
            "PROPN  -> PART    -1.200343\n",
            "PROPN  -> AUX     -1.251415\n",
            "PROPN  -> DET     -1.259998\n",
            "AUX    -> ADJ     -1.384617\n",
            "CCONJ  -> AUX     -1.498200\n",
            "DET    -> ADP     -1.911078\n",
            "ADJ    -> PRON    -1.970602\n",
            "ADJ    -> ADP     -2.037182\n"
          ],
          "name": "stdout"
        }
      ]
    },
    {
      "cell_type": "code",
      "metadata": {
        "id": "jdlr04tU1Pkx",
        "outputId": "3f8c8af2-ddab-4f40-f01b-73eba34139df",
        "colab": {
          "base_uri": "https://localhost:8080/",
          "height": 190
        }
      },
      "source": [
        "crf_test = sklearn_crfsuite.CRF(\n",
        "    algorithm='lbfgs', \n",
        "    c1=0.1, \n",
        "    c2=0.1, \n",
        "    max_iterations=100, \n",
        "    all_possible_transitions=True\n",
        ")\n",
        "crf_test.fit(X_test, y_test)"
      ],
      "execution_count": 25,
      "outputs": [
        {
          "output_type": "stream",
          "text": [
            "/usr/local/lib/python3.6/dist-packages/sklearn/base.py:197: FutureWarning: From version 0.24, get_params will raise an AttributeError if a parameter cannot be retrieved as an instance attribute. Previously it would return None.\n",
            "  FutureWarning)\n"
          ],
          "name": "stderr"
        },
        {
          "output_type": "execute_result",
          "data": {
            "text/plain": [
              "CRF(algorithm='lbfgs', all_possible_states=None, all_possible_transitions=True,\n",
              "    averaging=None, c=None, c1=0.1, c2=0.1, calibration_candidates=None,\n",
              "    calibration_eta=None, calibration_max_trials=None, calibration_rate=None,\n",
              "    calibration_samples=None, delta=None, epsilon=None, error_sensitive=None,\n",
              "    gamma=None, keep_tempfiles=None, linesearch=None, max_iterations=100,\n",
              "    max_linesearch=None, min_freq=None, model_filename=None, num_memories=None,\n",
              "    pa_type=None, period=None, trainer_cls=None, variance=None, verbose=False)"
            ]
          },
          "metadata": {
            "tags": []
          },
          "execution_count": 25
        }
      ]
    },
    {
      "cell_type": "code",
      "metadata": {
        "id": "seUXQ4zDBvms",
        "outputId": "440b0cc8-a1f6-4904-ae1b-dc697340f8ca",
        "colab": {
          "base_uri": "https://localhost:8080/",
          "height": 425
        }
      },
      "source": [
        "from collections import Counter\n",
        "\n",
        "print(\"Test Sentences\")\n",
        "\n",
        "def print_transitions(trans_features):\n",
        "    for (label_from, label_to), weight in trans_features:\n",
        "        print(\"%-6s -> %-7s %0.6f\" % (label_from, label_to, weight))\n",
        "\n",
        "print(\"Top likely transitions:\")\n",
        "print_transitions(Counter(crf_test.transition_features_).most_common(10))\n",
        "\n",
        "print(\"\\nTop unlikely transitions:\")\n",
        "print_transitions(Counter(crf_test.transition_features_).most_common()[-10:])"
      ],
      "execution_count": 27,
      "outputs": [
        {
          "output_type": "stream",
          "text": [
            "Test Sentences\n",
            "Top likely transitions:\n",
            "VERB   -> AUX     3.492938\n",
            "AUX    -> AUX     2.566234\n",
            "PROPN  -> ADP     2.298786\n",
            "PROPN  -> PROPN   2.229434\n",
            "AUX    -> PUNCT   1.957406\n",
            "NUM    -> NUM     1.665870\n",
            "ADJ    -> NOUN    1.580236\n",
            "PRON   -> ADP     1.502749\n",
            "NUM    -> NOUN    1.469844\n",
            "PART   -> NUM     1.430389\n",
            "\n",
            "Top unlikely transitions:\n",
            "VERB   -> PRON    -0.955955\n",
            "PROPN  -> AUX     -1.062427\n",
            "NOUN   -> NOUN    -1.101574\n",
            "NOUN   -> DET     -1.148694\n",
            "DET    -> PROPN   -1.203906\n",
            "AUX    -> VERB    -1.227718\n",
            "ADJ    -> ADP     -1.261130\n",
            "ADP    -> PUNCT   -1.307790\n",
            "VERB   -> PROPN   -1.319346\n",
            "PROPN  -> ADJ     -1.367929\n"
          ],
          "name": "stdout"
        }
      ]
    },
    {
      "cell_type": "code",
      "metadata": {
        "id": "H0ltNd0cC6zm"
      },
      "source": [
        ""
      ],
      "execution_count": 21,
      "outputs": []
    }
  ]
}