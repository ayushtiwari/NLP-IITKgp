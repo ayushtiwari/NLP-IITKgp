{
  "nbformat": 4,
  "nbformat_minor": 0,
  "metadata": {
    "colab": {
      "name": "Assignment_1.ipynb",
      "provenance": [],
      "collapsed_sections": []
    },
    "kernelspec": {
      "display_name": "Python 3",
      "language": "python",
      "name": "python3"
    },
    "language_info": {
      "codemirror_mode": {
        "name": "ipython",
        "version": 3
      },
      "file_extension": ".py",
      "mimetype": "text/x-python",
      "name": "python",
      "nbconvert_exporter": "python",
      "pygments_lexer": "ipython3",
      "version": "3.6.10"
    }
  },
  "cells": [
    {
      "cell_type": "markdown",
      "metadata": {
        "colab_type": "text",
        "id": "fk0evCZ7U9WO"
      },
      "source": [
        "# **Assignment 1 on Natural Language Processing**\n",
        "\n",
        "### Date : 4th Sept, 2020\n",
        "\n",
        "#### Instructor : Prof. Sudeshna Sarkar\n",
        "\n",
        "#### Teaching Assistants : Alapan Kuila, Aniruddha Roy, Anusha Potnuru, Uppada Vishnu"
      ]
    },
    {
      "cell_type": "markdown",
      "metadata": {
        "colab_type": "text",
        "id": "Il_b_LFKXi8t"
      },
      "source": [
        " # NLTK Library"
      ]
    },
    {
      "cell_type": "markdown",
      "metadata": {
        "colab_type": "text",
        "id": "ss5CZjC2Xt0i"
      },
      "source": [
        "The [NLTK](https://www.nltk.org/) Python framework is generally used as an education and research tool. Tokenization, Stemming, Lemmatization, Punctuation, Character count, word count are some of these packages which will be discussed in this tutorial.\n",
        "\n",
        "**Installing Nltk** <br>\n",
        "Nltk can be installed using PIP or Conda package managers.For detailed installation instructions follow this [link](https://www.nltk.org/install.html).\n",
        "\n",
        "To ensure we are all on the same page, the coding environment will be in **python3**. We suggest downloading Anaconda3 and creating a separate environment to do this assignment. \n",
        "The link to anaconda3 for Windows and Linux is available here https://docs.anaconda.com/anaconda/install/. \n",
        "The steps to install NLTK is available on the link: \n",
        "```bash\n",
        "sudo pip3 install nltk \n",
        "python3 \n",
        "nltk.download()\n",
        "```"
      ]
    },
    {
      "cell_type": "markdown",
      "metadata": {
        "colab_type": "text",
        "id": "r4txbU5-RlMv"
      },
      "source": [
        "**Note for Question and answers:**\n",
        "\n",
        "Write your answers to the point in the text box below labelled as **Answer here**."
      ]
    },
    {
      "cell_type": "markdown",
      "metadata": {
        "colab_type": "text",
        "id": "52_aJRSqaHgC"
      },
      "source": [
        "# Tokenizing words and Sentences using Nltk"
      ]
    },
    {
      "cell_type": "markdown",
      "metadata": {
        "colab_type": "text",
        "id": "o5_ElYaeaMbR"
      },
      "source": [
        "**Tokenization** is the process by which big quantity of text is divided into smaller parts called tokens. <br>It is crucial to understand the pattern in the text in order to perform various NLP tasks.These tokens are very useful for finding such patterns.<br>\n",
        "\n",
        "Natural Language toolkit has very important module tokenize which further comprises of sub-modules\n",
        "\n",
        "1. word tokenize\n",
        "2. sentence tokenize"
      ]
    },
    {
      "cell_type": "code",
      "metadata": {
        "colab_type": "code",
        "id": "sby_OS3qZ_fz",
        "colab": {
          "base_uri": "https://localhost:8080/",
          "height": 119
        },
        "outputId": "10a57a45-788e-48ee-dec5-f372bfff80d9"
      },
      "source": [
        "# Importing modules\n",
        "import nltk\n",
        "nltk.download('punkt') # For tokenizers\n",
        "nltk.download('inaugural') # For dataset\n",
        "nltk.download('stopwords') # For stop words\n",
        "from nltk.tokenize import word_tokenize,sent_tokenize"
      ],
      "execution_count": 54,
      "outputs": [
        {
          "output_type": "stream",
          "text": [
            "[nltk_data] Downloading package punkt to /root/nltk_data...\n",
            "[nltk_data]   Package punkt is already up-to-date!\n",
            "[nltk_data] Downloading package inaugural to /root/nltk_data...\n",
            "[nltk_data]   Package inaugural is already up-to-date!\n",
            "[nltk_data] Downloading package stopwords to /root/nltk_data...\n",
            "[nltk_data]   Package stopwords is already up-to-date!\n"
          ],
          "name": "stdout"
        }
      ]
    },
    {
      "cell_type": "code",
      "metadata": {
        "colab_type": "code",
        "id": "ew9Aq5WHXSn-",
        "colab": {}
      },
      "source": [
        "# Sample corpus.\n",
        "from nltk.corpus import inaugural\n",
        "corpus = inaugural.raw('1789-Washington.txt')\n",
        "# print(corpus)"
      ],
      "execution_count": 55,
      "outputs": []
    },
    {
      "cell_type": "markdown",
      "metadata": {
        "colab_type": "text",
        "id": "V2wbXKzVW0GO"
      },
      "source": [
        "### **TASK**:\n",
        "\n",
        "For the given corpus, \n",
        "1. Print the number of sentences and tokens. \n",
        "2. Print the average number of tokens per sentence.\n",
        "3. Print the number of unique tokens\n",
        "4. Print the number of tokens after stopword removal using the stopwords from nltk.\n"
      ]
    },
    {
      "cell_type": "code",
      "metadata": {
        "colab_type": "code",
        "id": "jrtu9HcHXFe6",
        "colab": {
          "base_uri": "https://localhost:8080/",
          "height": 102
        },
        "outputId": "b4438580-6845-4d01-8cbd-69e7b8f9a23a"
      },
      "source": [
        "# TODO\n",
        "\n",
        "# 1) Print the number of sentences and tokens.\n",
        "words = word_tokenize(corpus)\n",
        "sentences = sent_tokenize(corpus)\n",
        "\n",
        "num_words = len(words)\n",
        "num_sents = len(sentences)\n",
        "\n",
        "print('Sentences : {}'.format(num_sents))\n",
        "print('Tokens : {}'.format(num_words))\n",
        "\n",
        "\n",
        "# 2) Print the average number of tokens per sentence.\n",
        "avg_words_per_sent = num_words/num_sents\n",
        "\n",
        "print('Avg Tokens/Sentence: {}'.format(avg_words_per_sent))\n",
        "\n",
        "# 3) Print the number of unique tokens\n",
        "num_uniq_words = len(set(words))\n",
        "\n",
        "print('Unique words: {}'.format(num_uniq_words))\n",
        "\n",
        "# 4) Print the number of tokens after stopword removal using the stopwords from nltk\n",
        "from nltk.corpus import stopwords\n",
        "\n",
        "stop_words = stopwords.words('english')\n",
        "\n",
        "non_stop_words = [word for word in words if word not in stop_words]\n",
        "num_non_stop_words = len(non_stop_words)\n",
        "\n",
        "print('Num of non-stop tokens: {}'.format(num_non_stop_words))"
      ],
      "execution_count": 59,
      "outputs": [
        {
          "output_type": "stream",
          "text": [
            "Sentences : 23\n",
            "Tokens : 1537\n",
            "Avg Tokens/Sentence: 66.82608695652173\n",
            "Unique words: 626\n",
            "Num of non-stop tokens: 800\n"
          ],
          "name": "stdout"
        }
      ]
    },
    {
      "cell_type": "markdown",
      "metadata": {
        "colab_type": "text",
        "id": "UViYY9_3t2UE"
      },
      "source": [
        "# Stemming and Lemmatization with NLTK"
      ]
    },
    {
      "cell_type": "markdown",
      "metadata": {
        "colab_type": "text",
        "id": "g55XX9KDLgO7"
      },
      "source": [
        "**What is Stemming?** <br>\n",
        "Stemming is a kind of normalization for words. Normalization is a technique where a set of words in a sentence are converted into a sequence to shorten its lookup. The words which have the same meaning but have some variation according to the context or sentence are normalized.<br>\n",
        "Hence Stemming is a way to find the root word from any variations of respective word\n",
        "\n",
        "There are many stemmers provided by Nltk like **PorterStemmer**, **SnowballStemmer**, **LancasterStemmer**.<br>\n",
        "\n",
        "We will try and see differences between Porterstemmer and Snowballstemmer"
      ]
    },
    {
      "cell_type": "code",
      "metadata": {
        "colab_type": "code",
        "id": "SS4Ij__XLfTB",
        "colab": {
          "base_uri": "https://localhost:8080/",
          "height": 68
        },
        "outputId": "df8beae0-594a-4cbb-d14c-293224b15ae3"
      },
      "source": [
        "from nltk.stem import PorterStemmer\n",
        "from nltk.stem import SnowballStemmer # Note that SnowballStemmer has language as parameter.\n",
        "\n",
        "words = [\"grows\",\"leaves\",\"fairly\",\"cats\",\"trouble\",\"misunderstanding\",\"friendships\",\"easily\",\"rational\", \"relational\"]\n",
        "\n",
        "# TODO\n",
        "# create an instance of both the stemmers and perform stemming on above words\n",
        "\n",
        "snowball_stemmer = SnowballStemmer(\"english\")\n",
        "porter_stemmer = PorterStemmer()\n",
        "\n",
        "print('Snowball: {}'.format([snowball_stemmer.stem(word) for word in words]))\n",
        "print('Porter: {}'.format([porter_stemmer.stem(word) for word in words]))\n",
        "\n",
        "# TODO\n",
        "# Complete the function which takes a sentence/corpus and gets its stemmed version.\n",
        "def stemSentence(sentence=None):\n",
        "    words = word_tokenize(sentence)\n",
        "    return ' '.join([SnowballStemmer(\"english\").stem(word) for word in words])\n",
        "\n",
        "\n",
        "print(stemSentence(\"Stemmers remove morphological affixes from words, leaving only the word stem.\"))\n"
      ],
      "execution_count": 61,
      "outputs": [
        {
          "output_type": "stream",
          "text": [
            "Snowball: ['grow', 'leav', 'fair', 'cat', 'troubl', 'misunderstand', 'friendship', 'easili', 'ration', 'relat']\n",
            "Porter: ['grow', 'leav', 'fairli', 'cat', 'troubl', 'misunderstand', 'friendship', 'easili', 'ration', 'relat']\n",
            "stemmer remov morpholog affix from word , leav onli the word stem .\n"
          ],
          "name": "stdout"
        }
      ]
    },
    {
      "cell_type": "markdown",
      "metadata": {
        "colab_type": "text",
        "id": "0JuE8CuDQSno"
      },
      "source": [
        "**What is Lemmatization?** <br>\n",
        "Lemmatization is the algorithmic process of finding the lemma of a word depending on their meaning. Lemmatization usually refers to the morphological analysis of words, which aims to remove inflectional endings. It helps in returning the base or dictionary form of a word, which is known as the lemma.<br>\n",
        "\n",
        "*The NLTK Lemmatization method is based on WorldNet's built-in morph function.*"
      ]
    },
    {
      "cell_type": "code",
      "metadata": {
        "colab_type": "code",
        "id": "noyl1YNsQp98",
        "colab": {
          "base_uri": "https://localhost:8080/",
          "height": 85
        },
        "outputId": "8f6220e6-4bb7-49fc-c8dd-de229a48fa9e"
      },
      "source": [
        "#imports\n",
        "from nltk.stem import WordNetLemmatizer\n",
        "nltk.download('wordnet') # Since Lemmatization method is based on WorldNet's built-in morph function.\n",
        "\n",
        "words = [\"grows\",\"leaves\",\"fairly\",\"cats\",\"trouble\",\"running\",\"friendships\",\"easily\", \"was\", \"relational\",\"has\"]\n",
        "\n",
        "#TODO\n",
        "# Create an instance of the Lemmatizer and perform Lemmatization on above words\n",
        "# You can also give Parts-of-speech(pos) to the Lemmatizer for example \"v\" (verb). Check the differences in the outputs.\n",
        "\n",
        "wordNetLemmatizer = WordNetLemmatizer()\n",
        "print('{}'.format([wordNetLemmatizer.lemmatize(word, pos=\"v\") for word in words]))\n",
        "\n",
        "#TODO\n",
        "# Complete the function which takes a sentence/corpus and gets its lemmatized version.\n",
        "def lemmatizeSentence(sentence=None):\n",
        "    words = word_tokenize(sentence)\n",
        "    return ' '.join([WordNetLemmatizer().lemmatize(word) for word in words])\n",
        "\n",
        "print(lemmatizeSentence(\"Stemmers remove morphological affixes from words, leaving only the word stem.\"))"
      ],
      "execution_count": 62,
      "outputs": [
        {
          "output_type": "stream",
          "text": [
            "[nltk_data] Downloading package wordnet to /root/nltk_data...\n",
            "[nltk_data]   Package wordnet is already up-to-date!\n",
            "['grow', 'leave', 'fairly', 'cat', 'trouble', 'run', 'friendships', 'easily', 'be', 'relational', 'have']\n",
            "Stemmers remove morphological affix from word , leaving only the word stem .\n"
          ],
          "name": "stdout"
        }
      ]
    },
    {
      "cell_type": "markdown",
      "metadata": {
        "colab_type": "text",
        "id": "VJW6HsycSAlU"
      },
      "source": [
        "**Question:** Give example of two words which have same stem but different lemma? Show the stem and lemma of both words in the code below \n",
        "\n"
      ]
    },
    {
      "cell_type": "markdown",
      "metadata": {
        "colab_type": "text",
        "id": "zcq6bUEaSAt1"
      },
      "source": [
        "**Answer here:** \n",
        "1. better\n",
        "2. worldliest\n"
      ]
    },
    {
      "cell_type": "code",
      "metadata": {
        "colab_type": "code",
        "id": "a8OtIEmFkGBM",
        "colab": {
          "base_uri": "https://localhost:8080/",
          "height": 102
        },
        "outputId": "8fd1cc6c-dfff-44f5-9d77-98b166a2652e"
      },
      "source": [
        "#TODO\n",
        "# Write code to print the stem and lemma of both your words\n",
        "from nltk.corpus import wordnet\n",
        "\n",
        "print(\"stem: {}\".format(SnowballStemmer(\"english\").stem(\"better\")))\n",
        "print(\"lemma: {}\".format(WordNetLemmatizer().lemmatize(\"better\", pos=wordnet.ADJ)))\n",
        "print(\"\")\n",
        "print(\"stem: {}\".format(SnowballStemmer(\"english\").stem(\"worldliest\")))\n",
        "print(\"lemma: {}\".format(WordNetLemmatizer().lemmatize(\"worldliest\", pos=wordnet.ADJ)))"
      ],
      "execution_count": 63,
      "outputs": [
        {
          "output_type": "stream",
          "text": [
            "stem: better\n",
            "lemma: good\n",
            "\n",
            "stem: worldliest\n",
            "lemma: worldly\n"
          ],
          "name": "stdout"
        }
      ]
    },
    {
      "cell_type": "markdown",
      "metadata": {
        "colab_type": "text",
        "id": "e0tz3SIGSA2b"
      },
      "source": [
        "**Question:** Write a comparison between stemming and lemmatization?"
      ]
    },
    {
      "cell_type": "markdown",
      "metadata": {
        "colab_type": "text",
        "id": "aks8QaQ_SA_N"
      },
      "source": [
        "**Answer here:**\n",
        "\n",
        "Stemming refers to a heuristic process that chops off the ends of words in the hope of achieving this goal correctly most of the time, and often includes the removal of derivational affixes. \n",
        "\n",
        "Lemmatization refers to doing things properly with the use of a vocabulary and morphological analysis of words, normally aiming to remove inflectional endings only and to return the base form of a word."
      ]
    }
  ]
}